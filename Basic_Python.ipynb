{
  "nbformat": 4,
  "nbformat_minor": 0,
  "metadata": {
    "colab": {
      "provenance": [],
      "authorship_tag": "ABX9TyNXmJRKT3TAEsxUesURqeRy",
      "include_colab_link": true
    },
    "kernelspec": {
      "name": "python3",
      "display_name": "Python 3"
    },
    "language_info": {
      "name": "python"
    }
  },
  "cells": [
    {
      "cell_type": "markdown",
      "metadata": {
        "id": "view-in-github",
        "colab_type": "text"
      },
      "source": [
        "<a href=\"https://colab.research.google.com/github/Marudhan/Basic-Python/blob/main/Basic_Python.ipynb\" target=\"_parent\"><img src=\"https://colab.research.google.com/assets/colab-badge.svg\" alt=\"Open In Colab\"/></a>"
      ]
    },
    {
      "cell_type": "code",
      "execution_count": 2,
      "metadata": {
        "colab": {
          "base_uri": "https://localhost:8080/"
        },
        "id": "-HZ_XuVXJNu3",
        "outputId": "025e1971-27dd-467e-e245-a2f5f76c478a"
      },
      "outputs": [
        {
          "output_type": "stream",
          "name": "stdout",
          "text": [
            "HEllo world\n"
          ]
        }
      ],
      "source": [
        "print(\"HEllo world\")"
      ]
    },
    {
      "cell_type": "code",
      "source": [
        "a = 10\n",
        "b = 5\n",
        "\n",
        "# Addition\n",
        "print(a + b)\n",
        "\n",
        "# Subtraction\n",
        "print(a - b)\n",
        "\n",
        "# Multiplication\n",
        "print(a * b)\n",
        "\n",
        "# Division\n",
        "print(a / b)\n",
        "\n",
        "# Floor division\n",
        "print(a // b)\n"
      ],
      "metadata": {
        "colab": {
          "base_uri": "https://localhost:8080/"
        },
        "id": "f_e1tMIdJusW",
        "outputId": "19c06a02-faa3-4e1e-bc19-14a0a692e75d"
      },
      "execution_count": 3,
      "outputs": [
        {
          "output_type": "stream",
          "name": "stdout",
          "text": [
            "15\n",
            "5\n",
            "50\n",
            "2.0\n",
            "2\n"
          ]
        }
      ]
    },
    {
      "cell_type": "code",
      "source": [
        "print(\"Enter two numbers: \")\n",
        "a = int(input())\n",
        "b = int(input())\n",
        "\n",
        "print(\"Choose operation (+, -, *, /, //): \")\n",
        "op = input()\n",
        "\n",
        "if op == \"+\":\n",
        "  print(a + b)\n",
        "elif op == \"-\":\n",
        "  print(a - b)\n",
        "elif op == \"*\":\n",
        "  print(a * b)\n",
        "elif op == \"/\":\n",
        "  print(a / b)\n",
        "elif op == \"//\":\n",
        "  print(a // b)\n",
        "else:\n",
        "  print(\"Invalid operation\")\n"
      ],
      "metadata": {
        "colab": {
          "base_uri": "https://localhost:8080/"
        },
        "id": "a_9rktUuKIJM",
        "outputId": "15ce8912-a926-4a08-e229-297a0b83e757"
      },
      "execution_count": 4,
      "outputs": [
        {
          "output_type": "stream",
          "name": "stdout",
          "text": [
            "Enter two numbers: \n",
            "15\n",
            "20\n",
            "Choose operation (+, -, *, /, //): \n",
            "+\n",
            "35\n"
          ]
        }
      ]
    },
    {
      "cell_type": "code",
      "source": [
        "i = 1\n",
        "while i < 6:\n",
        "  print(i)\n",
        "  i += 1"
      ],
      "metadata": {
        "colab": {
          "base_uri": "https://localhost:8080/"
        },
        "id": "eExQoeIIKfKA",
        "outputId": "cb7c40af-4fdd-42db-cfe2-781adf31180a"
      },
      "execution_count": 9,
      "outputs": [
        {
          "output_type": "stream",
          "name": "stdout",
          "text": [
            "1\n",
            "2\n",
            "3\n",
            "4\n",
            "5\n"
          ]
        }
      ]
    },
    {
      "cell_type": "code",
      "source": [
        "i = 1\n",
        "while i < 6:\n",
        "  print(i)\n",
        "  if i == 3:\n",
        "    break\n",
        "  i += 1"
      ],
      "metadata": {
        "colab": {
          "base_uri": "https://localhost:8080/"
        },
        "id": "SRZfczCfLr6U",
        "outputId": "1ea526a0-abb5-4826-dff5-ac51c0dc6a53"
      },
      "execution_count": 10,
      "outputs": [
        {
          "output_type": "stream",
          "name": "stdout",
          "text": [
            "1\n",
            "2\n",
            "3\n"
          ]
        }
      ]
    },
    {
      "cell_type": "code",
      "source": [
        "fruits = [\"apple\", \"banana\", \"cherry\"]\n",
        "for x in fruits:\n",
        "  print(x)\n",
        "  if x == \"banana\":\n",
        "    break"
      ],
      "metadata": {
        "colab": {
          "base_uri": "https://localhost:8080/"
        },
        "id": "qxo_IWAuMBNg",
        "outputId": "5a2aa768-9f1f-465d-89cb-d004313dc596"
      },
      "execution_count": 11,
      "outputs": [
        {
          "output_type": "stream",
          "name": "stdout",
          "text": [
            "apple\n",
            "banana\n"
          ]
        }
      ]
    },
    {
      "cell_type": "code",
      "source": [
        "x = lambda a, b, c : a + b + c\n",
        "print(x(5, 6, 2))"
      ],
      "metadata": {
        "colab": {
          "base_uri": "https://localhost:8080/"
        },
        "id": "O5y6WXHJMIje",
        "outputId": "01b23075-c689-47e1-ecd8-029a741a0dbc"
      },
      "execution_count": 12,
      "outputs": [
        {
          "output_type": "stream",
          "name": "stdout",
          "text": [
            "13\n"
          ]
        }
      ]
    },
    {
      "cell_type": "code",
      "source": [
        "\n",
        "list1 = [1, 2, 3, 4, 5]\n",
        "print(\"List1:\", list1)\n",
        "\n",
        "tuple1 = (1, 2, 3, 4, 5)\n",
        "print(\"Tuple1:\", tuple1)\n",
        "\n",
        "import array\n",
        "array1 = array.array('i', [1, 2, 3, 4, 5])\n",
        "print(\"Array1:\", array1)\n"
      ],
      "metadata": {
        "colab": {
          "base_uri": "https://localhost:8080/"
        },
        "id": "qnutwbWMMLze",
        "outputId": "5247a27d-810a-4244-c723-27a293160408"
      },
      "execution_count": 13,
      "outputs": [
        {
          "output_type": "stream",
          "name": "stdout",
          "text": [
            "List1: [1, 2, 3, 4, 5]\n",
            "Tuple1: (1, 2, 3, 4, 5)\n",
            "Array1: array('i', [1, 2, 3, 4, 5])\n"
          ]
        }
      ]
    },
    {
      "cell_type": "code",
      "source": [
        "\n",
        "set1 = {1, 2, 3, 4, 5}\n",
        "print(\"Set1:\", set1)\n",
        "\n",
        "print(\"First element:\", set1.pop())\n",
        "print(\"Set1:\", set1)\n",
        "\n",
        "set1.add(6)\n",
        "print(\"Set1:\", set1)\n",
        "\n",
        "set1.remove(4)\n",
        "print(\"Set1:\", set1)\n",
        "\n",
        "set2 = {3, 4, 5, 6, 7}\n",
        "print(\"Set1 U Set2:\", set1 | set2)\n",
        "\n",
        "print(\"Set1 n Set2:\", set1 & set2)\n",
        "\n",
        "print(\"Set1 - Set2:\", set1 - set2)\n",
        "\n",
        "a = 10\n",
        "print(\"Type of a:\", type(a))\n",
        "\n",
        "b = \"Hello World\"\n",
        "print(\"Type of b:\", type(b))\n",
        "\n",
        "c = True\n",
        "print(\"Type of c:\", type(c))\n",
        "\n",
        "d = 10.245\n",
        "print(\"Type of d:\", type(d))\n"
      ],
      "metadata": {
        "colab": {
          "base_uri": "https://localhost:8080/"
        },
        "id": "89j0_Zx6MeBI",
        "outputId": "4c64447e-7360-4383-b221-01f75a9f4749"
      },
      "execution_count": 14,
      "outputs": [
        {
          "output_type": "stream",
          "name": "stdout",
          "text": [
            "Set1: {1, 2, 3, 4, 5}\n",
            "First element: 1\n",
            "Set1: {2, 3, 4, 5}\n",
            "Set1: {2, 3, 4, 5, 6}\n",
            "Set1: {2, 3, 5, 6}\n",
            "Set1 U Set2: {2, 3, 4, 5, 6, 7}\n",
            "Set1 n Set2: {3, 5, 6}\n",
            "Set1 - Set2: {2}\n",
            "Type of a: <class 'int'>\n",
            "Type of b: <class 'str'>\n",
            "Type of c: <class 'bool'>\n",
            "Type of d: <class 'float'>\n"
          ]
        }
      ]
    }
  ]
}